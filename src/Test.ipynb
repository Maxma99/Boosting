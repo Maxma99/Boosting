{
 "cells": [
  {
   "attachments": {},
   "cell_type": "markdown",
   "metadata": {},
   "source": [
    "# Boosting SLP"
   ]
  },
  {
   "attachments": {},
   "cell_type": "markdown",
   "metadata": {},
   "source": [
    "## Import Problem"
   ]
  },
  {
   "cell_type": "code",
   "execution_count": 1,
   "metadata": {},
   "outputs": [
    {
     "name": "stderr",
     "output_type": "stream",
     "text": [
      "/home/mcq/Documents/Github/venv/lib/python3.10/site-packages/pycutest/__init__.py:28: RuntimeWarning: the PYCUTEST_CACHE environment variable is not set; current folder will be used for caching.\n",
      "  warnings.warn(\"the PYCUTEST_CACHE environment variable is not set; current folder will be used for caching.\", RuntimeWarning)\n"
     ]
    }
   ],
   "source": [
    "import pycutest as pc\n",
    "import numpy as np\n",
    "import os\n",
    "from collections import OrderedDict\n",
    "import autograd.numpy as np\n",
    "import matplotlib.pyplot as plt\n",
    "import networkx as nx\n",
    "import pandas as pd\n",
    "from autograd import grad\n",
    "from collections import Counter, defaultdict\n",
    "from itertools import compress\n",
    "from scipy.io import loadmat\n",
    "from scipy.optimize import linear_sum_assignment\n",
    "from scipy.sparse.linalg import svds\n",
    "from scipy.special import huber\n",
    "from sklearn.preprocessing import StandardScaler\n",
    "from time import process_time\n",
    "from boosting_utils import *\n",
    "import warnings\n",
    "warnings.simplefilter('ignore')\n",
    "import logging\n",
    "import pickle\n",
    "import time\n",
    "# from cuter_util import Cuter\n",
    "# from linear_solver import linearSolveTrustRegion\n",
    "from param import DustParam"
   ]
  },
  {
   "cell_type": "code",
   "execution_count": 2,
   "metadata": {},
   "outputs": [
    {
     "name": "stdout",
     "output_type": "stream",
     "text": [
      "Parameters available for problem HS4:\n",
      "End of parameters for problem HS4\n",
      "CUTEst problem HS4 (default params) with 2 variables and 0 constraints\n",
      "{'objective': 'other', 'constraints': 'bound', 'regular': True, 'degree': 2, 'origin': 'academic', 'internal': False, 'n': 2, 'm': 0}\n"
     ]
    },
    {
     "data": {
      "text/plain": [
       "{'f': 0,\n",
       " 'g': 0,\n",
       " 'H': 0,\n",
       " 'Hprod': 0,\n",
       " 'tsetup': 0.0,\n",
       " 'trun': 0.0,\n",
       " 'c': None,\n",
       " 'cg': None,\n",
       " 'cH': None}"
      ]
     },
     "execution_count": 2,
     "metadata": {},
     "output_type": "execute_result"
    }
   ],
   "source": [
    "pc.print_available_sif_params('HS4')\n",
    "p = pc.import_problem('HS4')\n",
    "p_properties = pc.problem_properties('HS4')\n",
    "print(p)\n",
    "print(p_properties)\n",
    "p.report()"
   ]
  },
  {
   "cell_type": "code",
   "execution_count": 4,
   "metadata": {},
   "outputs": [
    {
     "ename": "AttributeError",
     "evalue": "'bool' object has no attribute 'flatten'",
     "output_type": "error",
     "traceback": [
      "\u001b[0;31m---------------------------------------------------------------------------\u001b[0m",
      "\u001b[0;31mAttributeError\u001b[0m                            Traceback (most recent call last)",
      "Cell \u001b[0;32mIn[4], line 1\u001b[0m\n\u001b[0;32m----> 1\u001b[0m setup_args_dict \u001b[39m=\u001b[39m cuter_extra_setup_args(p)\n\u001b[1;32m      2\u001b[0m \u001b[39mprint\u001b[39m (setup_args_dict)\n\u001b[1;32m      4\u001b[0m linearSolveTrustRegion(p, setup_args_dict)\n",
      "File \u001b[0;32m~/Documents/Github/Boosting/src/boosting_utils.py:25\u001b[0m, in \u001b[0;36mcuter_extra_setup_args\u001b[0;34m(cuter_problem)\u001b[0m\n\u001b[1;32m     23\u001b[0m bu \u001b[39m=\u001b[39m cuter_problem\u001b[39m.\u001b[39mbu\n\u001b[1;32m     24\u001b[0m iequatn \u001b[39m=\u001b[39m np\u001b[39m.\u001b[39mlogical_not(equatn)\n\u001b[0;32m---> 25\u001b[0m inequality_upper \u001b[39m=\u001b[39m np\u001b[39m.\u001b[39mlogical_and((cu \u001b[39m!=\u001b[39;49m __UP)\u001b[39m.\u001b[39;49mflatten(), iequatn)\n\u001b[1;32m     26\u001b[0m inequality_lower \u001b[39m=\u001b[39m np\u001b[39m.\u001b[39mlogical_and((cl \u001b[39m!=\u001b[39m __LOW)\u001b[39m.\u001b[39mflatten(), iequatn)\n\u001b[1;32m     27\u001b[0m is_lower_bound_only_constr \u001b[39m=\u001b[39m np\u001b[39m.\u001b[39mlogical_and(inequality_lower, np\u001b[39m.\u001b[39mlogical_not(inequality_upper))\n",
      "\u001b[0;31mAttributeError\u001b[0m: 'bool' object has no attribute 'flatten'"
     ]
    }
   ],
   "source": [
    "setup_args_dict = cuter_extra_setup_args(p)\n",
    "print (setup_args_dict)\n",
    "\n",
    "linearSolveTrustRegion(p, setup_args_dict)"
   ]
  }
 ],
 "metadata": {
  "kernelspec": {
   "display_name": "venv",
   "language": "python",
   "name": "python3"
  },
  "language_info": {
   "codemirror_mode": {
    "name": "ipython",
    "version": 3
   },
   "file_extension": ".py",
   "mimetype": "text/x-python",
   "name": "python",
   "nbconvert_exporter": "python",
   "pygments_lexer": "ipython3",
   "version": "3.10.6"
  },
  "orig_nbformat": 4,
  "vscode": {
   "interpreter": {
    "hash": "a1b8de57ce40ebf5b8bf60ecde0e108a192da63b9038167ecfa9de74d8f426c4"
   }
  }
 },
 "nbformat": 4,
 "nbformat_minor": 2
}
