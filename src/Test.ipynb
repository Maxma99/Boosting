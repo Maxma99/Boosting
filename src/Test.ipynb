{
 "cells": [
  {
   "attachments": {},
   "cell_type": "markdown",
   "metadata": {},
   "source": [
    "# Boosting SLP"
   ]
  },
  {
   "attachments": {},
   "cell_type": "markdown",
   "metadata": {},
   "source": [
    "## Import Problem"
   ]
  },
  {
   "cell_type": "code",
   "execution_count": 2,
   "metadata": {},
   "outputs": [
    {
     "name": "stderr",
     "output_type": "stream",
     "text": [
      "/home/mcq/Documents/Github/venv/lib/python3.10/site-packages/pycutest/__init__.py:28: RuntimeWarning: the PYCUTEST_CACHE environment variable is not set; current folder will be used for caching.\n",
      "  warnings.warn(\"the PYCUTEST_CACHE environment variable is not set; current folder will be used for caching.\", RuntimeWarning)\n"
     ]
    }
   ],
   "source": [
    "import pycutest as pc\n",
    "import numpy as np\n",
    "import os\n",
    "from collections import OrderedDict\n",
    "import autograd.numpy as np\n",
    "import matplotlib.pyplot as plt\n",
    "import networkx as nx\n",
    "import pandas as pd\n",
    "from autograd import grad\n",
    "from collections import Counter, defaultdict\n",
    "from itertools import compress\n",
    "from scipy.io import loadmat\n",
    "from scipy.optimize import linear_sum_assignment\n",
    "from scipy.sparse.linalg import svds\n",
    "from scipy.special import huber\n",
    "from sklearn.preprocessing import StandardScaler\n",
    "from time import process_time\n",
    "\n",
    "import warnings\n",
    "warnings.simplefilter('ignore')\n",
    "import logging\n",
    "import pickle\n",
    "import time\n",
    "\n",
    "# from cuter_util import Cuter\n",
    "# from linear_solver import linearSolveTrustRegion\n",
    "# from param import DustParam\n",
    "# from debug_utils import pause"
   ]
  },
  {
   "cell_type": "code",
   "execution_count": 5,
   "metadata": {},
   "outputs": [
    {
     "name": "stdout",
     "output_type": "stream",
     "text": [
      "Parameters available for problem HS20:\n",
      "End of parameters for problem HS20\n",
      "CUTEst problem HS20 (default params) with 2 variables and 3 constraints\n",
      "{'objective': 'sum of squares', 'constraints': 'quadratic', 'regular': True, 'degree': 2, 'origin': 'academic', 'internal': False, 'n': 2, 'm': 3}\n"
     ]
    },
    {
     "data": {
      "text/plain": [
       "{'f': 1,\n",
       " 'g': 1,\n",
       " 'H': 0,\n",
       " 'Hprod': 0,\n",
       " 'c': 1,\n",
       " 'cg': 1,\n",
       " 'cH': 0,\n",
       " 'tsetup': 0.0,\n",
       " 'trun': 0.0}"
      ]
     },
     "execution_count": 5,
     "metadata": {},
     "output_type": "execute_result"
    }
   ],
   "source": [
    "pc.print_available_sif_params('HS20')\n",
    "p = pc.import_problem('HS20')\n",
    "p_properties = pc.problem_properties('HS20')\n",
    "print(p)\n",
    "print(p_properties)\n",
    "x = p.x0\n",
    "f, grad_f = p.obj(x, gradient = True)\n",
    "c, grad_c = p.cons(x, gradient = True)\n",
    "\n",
    "\n",
    "\n",
    "\n",
    "\n",
    "p.report()"
   ]
  },
  {
   "cell_type": "code",
   "execution_count": 13,
   "metadata": {},
   "outputs": [],
   "source": [
    "__PMAX = 1e3\n",
    "__UP = 1e20\n",
    "__LOW = -1e20\n",
    "status = p.init_stats\n",
    "funit = 42\n",
    "fname = p.name\n",
    "iout = 6\n",
    "io_buffer = 11\n",
    "n = p.n\n",
    "m = p.m\n",
    "x = p.x0\n",
    "bl = p.bl\n",
    "bu = p.bu\n",
    "v = p.v0\n",
    "cl = p.cl\n",
    "cu = p.cu\n",
    "equatn = p.is_eq_cons\n",
    "linear = p.is_linear_cons\n",
    "e_order = 1\n",
    "l_order = 1\n",
    "v_order = 2\n",
    "iequatn = np.logical_not(equatn)\n",
    "inequality_upper = np.logical_and((cu != __UP).flatten(), iequatn)\n",
    "inequality_lower = np.logical_and((cl != __LOW).flatten(), iequatn)\n",
    "is_lower_bound_only_constr = np.logical_and(inequality_lower, np.logical_not(inequality_upper))\n",
    "is_double_bound_constr = np.logical_and(inequality_lower, inequality_upper)\n",
    "bl_flag = (bl != __LOW).flatten()\n",
    "bu_flag = (bu != __UP).flatten()\n",
    "num_added_ineq_constr = np.sum(is_double_bound_constr) + np.sum(bl_flag) + np.sum(bu_flag)\n",
    "added_iequatn = np.array([False] * num_added_ineq_constr, dtype=bool)\n",
    "adjusted_equatn = np.hstack([equatn, added_iequatn])\n",
    "setup_args_dict = {'status': status,'funit': funit,\n",
    "                    'iout': iout,'n': n,\n",
    "                    'm': m,'x': x,\n",
    "                    'bl': bl,'bu': bu,\n",
    "                    'v': v,'cl': cl,\n",
    "                    'cu': cu,'equatn': equatn,\n",
    "                    'linear': linear,\n",
    "                    'e_order': e_order,\n",
    "                    'l_order': l_order,\n",
    "                    'v_order': v_order,\n",
    "                    'bl_flag': bl_flag,\n",
    "                    'bu_flag': bu_flag,\n",
    "                    'adjusted_equatn': adjusted_equatn,\n",
    "                    'iequatn': iequatn,\n",
    "                    'inequality_lower': inequality_lower,\n",
    "                    'inequality_upper': inequality_upper,\n",
    "                    'is_lower_bound_only_constr': is_lower_bound_only_constr,\n",
    "                    'is_double_bound_constr': is_double_bound_constr}\n"
   ]
  },
  {
   "cell_type": "code",
   "execution_count": null,
   "metadata": {},
   "outputs": [],
   "source": [
    "def nlp_test(sif_dir_root, problem_name, dust_param, log_dir, result_dir):\n",
    "    \"\"\"\n",
    "    Test one cuter problem stored under `sif_dir_root`/`problem_name`\n",
    "    :param sif_dir_root: sif directory\n",
    "    :param problem_name: problem name, e.g. HS101\n",
    "    :param dust_param: dust param instance\n",
    "    :param log_dir: output log directory\n",
    "    :param result_dir: result directory to store the output\n",
    "    :return: dust output\n",
    "    \"\"\"\n",
    "    #logger.info('+' * 200)\n",
    "    with Cuter(os.path.join(sif_dir_root, problem_name)) as cuter:\n",
    "        try:\n",
    "            print_param_dict(dust_param.dump2Dict(), None)\n",
    "            start_time = time.time()\n",
    "            dust_output = linearSolveTrustRegion(cuter, dust_param, None)\n",
    "            execution_time = time.time() - start_time\n",
    "            dust_output['problem_name'] = problem_name\n",
    "            dust_output['execution_time'] = execution_time\n",
    "            output_print_dict = OrderedDict(\n",
    "                [('Summary for problem', dust_output['problem_name']),\n",
    "                 ('Status', dust_output['status']), ('Iteration Number', dust_output['iter_num']),\n",
    "                 ('Final objective', dust_output['obj_f']), ('KKT error', dust_output['kkt_error']),\n",
    "                 ('Constraint violation', dust_output['constraint_violation']), \n",
    "                 ('Execute Time (s)', execution_time),\n",
    "                 ('Pivot#', dust_output['pivot_cnt'])])\n",
    "            print_param_dict(output_print_dict, None)\n",
    "            save_output(result_dir, dust_output)\n",
    "            if dust_output['status'] == 1:\n",
    "                success_list.append(problem_name)\n",
    "            else:\n",
    "                fail_list.append(problem_name)\n",
    "        except Exception as e:\n",
    "            print(e)"
   ]
  },
  {
   "cell_type": "code",
   "execution_count": null,
   "metadata": {},
   "outputs": [],
   "source": [
    "def b_nlp_test(sif_dir_root, problem_name, dust_param, log_dir, result_dir):\n",
    "    "
   ]
  }
 ],
 "metadata": {
  "kernelspec": {
   "display_name": "venv",
   "language": "python",
   "name": "python3"
  },
  "language_info": {
   "codemirror_mode": {
    "name": "ipython",
    "version": 3
   },
   "file_extension": ".py",
   "mimetype": "text/x-python",
   "name": "python",
   "nbconvert_exporter": "python",
   "pygments_lexer": "ipython3",
   "version": "3.10.6"
  },
  "orig_nbformat": 4,
  "vscode": {
   "interpreter": {
    "hash": "a1b8de57ce40ebf5b8bf60ecde0e108a192da63b9038167ecfa9de74d8f426c4"
   }
  }
 },
 "nbformat": 4,
 "nbformat_minor": 2
}
