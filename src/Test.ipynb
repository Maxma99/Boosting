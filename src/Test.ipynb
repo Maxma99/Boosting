{
 "cells": [
  {
   "attachments": {},
   "cell_type": "markdown",
   "metadata": {},
   "source": [
    "# Boosting SLP"
   ]
  },
  {
   "attachments": {},
   "cell_type": "markdown",
   "metadata": {},
   "source": [
    "## Import Problem"
   ]
  },
  {
   "cell_type": "code",
   "execution_count": 9,
   "metadata": {},
   "outputs": [],
   "source": [
    "import pycutest as pc\n",
    "import numpy as np\n",
    "import os\n",
    "from collections import OrderedDict\n",
    "import autograd.numpy as np\n",
    "import matplotlib.pyplot as plt\n",
    "import networkx as nx\n",
    "import pandas as pd\n",
    "from autograd import grad\n",
    "from collections import Counter, defaultdict\n",
    "from itertools import compress\n",
    "from scipy.io import loadmat\n",
    "from scipy.optimize import linear_sum_assignment\n",
    "from scipy.sparse.linalg import svds\n",
    "from scipy.special import huber\n",
    "from sklearn.preprocessing import StandardScaler\n",
    "from time import process_time\n",
    "from boosting_utils import *\n",
    "import warnings\n",
    "warnings.simplefilter('ignore')\n",
    "import logging\n",
    "import pickle\n",
    "import time\n",
    "# from cuter_util import Cuter\n",
    "# from linear_solver import linearSolveTrustRegion\n",
    "from param import DustParam"
   ]
  },
  {
   "cell_type": "code",
   "execution_count": 10,
   "metadata": {},
   "outputs": [
    {
     "name": "stdout",
     "output_type": "stream",
     "text": [
      "Parameters available for problem HS4:\n",
      "End of parameters for problem HS4\n",
      "CUTEst problem HS4 (default params) with 2 variables and 0 constraints\n",
      "{'objective': 'other', 'constraints': 'bound', 'regular': True, 'degree': 2, 'origin': 'academic', 'internal': False, 'n': 2, 'm': 0}\n"
     ]
    },
    {
     "data": {
      "text/plain": [
       "{'f': 0,\n",
       " 'g': 0,\n",
       " 'H': 0,\n",
       " 'Hprod': 0,\n",
       " 'tsetup': 0.0,\n",
       " 'trun': 0.0,\n",
       " 'c': None,\n",
       " 'cg': None,\n",
       " 'cH': None}"
      ]
     },
     "execution_count": 10,
     "metadata": {},
     "output_type": "execute_result"
    }
   ],
   "source": [
    "pc.print_available_sif_params('HS4')\n",
    "p = pc.import_problem('HS4')\n",
    "p_properties = pc.problem_properties('HS4')\n",
    "print(p)\n",
    "print(p_properties)\n",
    "p.report()"
   ]
  },
  {
   "cell_type": "code",
   "execution_count": 11,
   "metadata": {},
   "outputs": [
    {
     "ename": "AttributeError",
     "evalue": "'bool' object has no attribute 'flatten'",
     "output_type": "error",
     "traceback": [
      "\u001b[0;31m---------------------------------------------------------------------------\u001b[0m",
      "\u001b[0;31mAttributeError\u001b[0m                            Traceback (most recent call last)",
      "Cell \u001b[0;32mIn[11], line 1\u001b[0m\n\u001b[0;32m----> 1\u001b[0m setup_args_dict \u001b[39m=\u001b[39m cuter_extra_setup_args(p)\n\u001b[1;32m      2\u001b[0m \u001b[39mprint\u001b[39m (setup_args_dict)\n\u001b[1;32m      4\u001b[0m f, grad_f \u001b[39m=\u001b[39m p\u001b[39m.\u001b[39mobj(p\u001b[39m.\u001b[39mx0, gradient \u001b[39m=\u001b[39m \u001b[39mTrue\u001b[39;00m)\n",
      "File \u001b[0;32m~/Documents/Github/Boosting/src/boosting_utils.py:39\u001b[0m, in \u001b[0;36mcuter_extra_setup_args\u001b[0;34m(cuter_problem)\u001b[0m\n\u001b[1;32m     31\u001b[0m added_iequatn \u001b[39m=\u001b[39m np\u001b[39m.\u001b[39marray([\u001b[39mFalse\u001b[39;00m] \u001b[39m*\u001b[39m num_added_ineq_constr, dtype\u001b[39m=\u001b[39m\u001b[39mbool\u001b[39m)\n\u001b[1;32m     32\u001b[0m adjusted_equatn \u001b[39m=\u001b[39m np\u001b[39m.\u001b[39mhstack([equatn, added_iequatn])\n\u001b[1;32m     33\u001b[0m setup_args_dict \u001b[39m=\u001b[39m { \u001b[39m'\u001b[39m\u001b[39mx\u001b[39m\u001b[39m'\u001b[39m: cuter_problem\u001b[39m.\u001b[39mx0,\n\u001b[1;32m     34\u001b[0m                 \u001b[39m'\u001b[39m\u001b[39mbl\u001b[39m\u001b[39m'\u001b[39m: bl,\n\u001b[1;32m     35\u001b[0m                 \u001b[39m'\u001b[39m\u001b[39mbu\u001b[39m\u001b[39m'\u001b[39m: bu,\n\u001b[1;32m     36\u001b[0m                 \u001b[39m'\u001b[39m\u001b[39mv\u001b[39m\u001b[39m'\u001b[39m: cuter_problem\u001b[39m.\u001b[39mv0,\n\u001b[1;32m     37\u001b[0m                 \u001b[39m'\u001b[39m\u001b[39mcl\u001b[39m\u001b[39m'\u001b[39m: cl,\n\u001b[1;32m     38\u001b[0m                 \u001b[39m'\u001b[39m\u001b[39mcu\u001b[39m\u001b[39m'\u001b[39m: cu,\n\u001b[0;32m---> 39\u001b[0m                 \u001b[39m'\u001b[39m\u001b[39mequatn\u001b[39m\u001b[39m'\u001b[39m: equatn,\n\u001b[1;32m     40\u001b[0m                 \u001b[39m'\u001b[39m\u001b[39mlinear\u001b[39m\u001b[39m'\u001b[39m: cuter_problem\u001b[39m.\u001b[39mis_linear_cons,\n\u001b[1;32m     41\u001b[0m                 \u001b[39m'\u001b[39m\u001b[39mbl_flag\u001b[39m\u001b[39m'\u001b[39m: bl_flag,\n\u001b[1;32m     42\u001b[0m                 \u001b[39m'\u001b[39m\u001b[39mbu_flag\u001b[39m\u001b[39m'\u001b[39m: bu_flag,\n\u001b[1;32m     43\u001b[0m                 \u001b[39m'\u001b[39m\u001b[39madjusted_equatn\u001b[39m\u001b[39m'\u001b[39m: adjusted_equatn,\n\u001b[1;32m     44\u001b[0m                 \u001b[39m'\u001b[39m\u001b[39miequatn\u001b[39m\u001b[39m'\u001b[39m: iequatn,\n\u001b[1;32m     45\u001b[0m                 \u001b[39m'\u001b[39m\u001b[39minequality_lower\u001b[39m\u001b[39m'\u001b[39m: inequality_lower,\n\u001b[1;32m     46\u001b[0m                 \u001b[39m'\u001b[39m\u001b[39minequality_upper\u001b[39m\u001b[39m'\u001b[39m: inequality_upper,\n\u001b[1;32m     47\u001b[0m                 \u001b[39m'\u001b[39m\u001b[39mis_lower_bound_only_constr\u001b[39m\u001b[39m'\u001b[39m: is_lower_bound_only_constr,\n\u001b[1;32m     48\u001b[0m                 \u001b[39m'\u001b[39m\u001b[39mis_double_bound_constr\u001b[39m\u001b[39m'\u001b[39m: is_double_bound_constr,\n\u001b[1;32m     49\u001b[0m                 \u001b[39m\"\u001b[39m\u001b[39minit_rho\u001b[39m\u001b[39m\"\u001b[39m: \u001b[39m1\u001b[39m,\n\u001b[1;32m     50\u001b[0m                 \u001b[39m\"\u001b[39m\u001b[39minit_omega\u001b[39m\u001b[39m\"\u001b[39m: \u001b[39m1e-2\u001b[39m,\n\u001b[1;32m     51\u001b[0m                 \u001b[39m\"\u001b[39m\u001b[39minit_delta\u001b[39m\u001b[39m\"\u001b[39m: \u001b[39m1\u001b[39m,\n\u001b[1;32m     52\u001b[0m                 \u001b[39m\"\u001b[39m\u001b[39mmax_iter\u001b[39m\u001b[39m\"\u001b[39m: \u001b[39m512\u001b[39m,\n\u001b[1;32m     53\u001b[0m                 \u001b[39m\"\u001b[39m\u001b[39mmax_sub_iter\u001b[39m\u001b[39m\"\u001b[39m: \u001b[39m512\u001b[39m,\n\u001b[1;32m     54\u001b[0m                 \u001b[39m\"\u001b[39m\u001b[39mbeta_opt\u001b[39m\u001b[39m\"\u001b[39m: \u001b[39m0.75\u001b[39m,\n\u001b[1;32m     55\u001b[0m                 \u001b[39m\"\u001b[39m\u001b[39mbeta_fea\u001b[39m\u001b[39m\"\u001b[39m: \u001b[39m0.3\u001b[39m,\n\u001b[1;32m     56\u001b[0m                 \u001b[39m\"\u001b[39m\u001b[39mtheta\u001b[39m\u001b[39m\"\u001b[39m: \u001b[39m0.9\u001b[39m,\n\u001b[1;32m     57\u001b[0m                 \u001b[39m\"\u001b[39m\u001b[39mline_theta\u001b[39m\u001b[39m\"\u001b[39m: \u001b[39m1e-4\u001b[39m,\n\u001b[1;32m     58\u001b[0m                 \u001b[39m\"\u001b[39m\u001b[39momega_shrink\u001b[39m\u001b[39m\"\u001b[39m: \u001b[39m0.7\u001b[39m,\n\u001b[1;32m     59\u001b[0m                 \u001b[39m\"\u001b[39m\u001b[39meps_opt\u001b[39m\u001b[39m\"\u001b[39m: \u001b[39m1e-4\u001b[39m,\n\u001b[1;32m     60\u001b[0m                 \u001b[39m\"\u001b[39m\u001b[39meps_violation\u001b[39m\u001b[39m\"\u001b[39m: \u001b[39m1e-3\u001b[39m,\n\u001b[1;32m     61\u001b[0m                 \u001b[39m\"\u001b[39m\u001b[39msub_verbose\u001b[39m\u001b[39m\"\u001b[39m: \u001b[39mFalse\u001b[39;00m,\n\u001b[1;32m     62\u001b[0m                 \u001b[39m\"\u001b[39m\u001b[39mrescale\u001b[39m\u001b[39m\"\u001b[39m: \u001b[39mFalse\u001b[39;00m,\n\u001b[1;32m     63\u001b[0m                 \u001b[39m\"\u001b[39m\u001b[39mSIGMA\u001b[39m\u001b[39m\"\u001b[39m: \u001b[39m0.3\u001b[39m,\n\u001b[1;32m     64\u001b[0m                 \u001b[39m\"\u001b[39m\u001b[39mDELTA\u001b[39m\u001b[39m\"\u001b[39m: \u001b[39m0.75\u001b[39m,\n\u001b[1;32m     65\u001b[0m                 \u001b[39m\"\u001b[39m\u001b[39mMIN_delta\u001b[39m\u001b[39m\"\u001b[39m: \u001b[39m1e-2\u001b[39m,\n\u001b[1;32m     66\u001b[0m                 \u001b[39m\"\u001b[39m\u001b[39mMAX_delta\u001b[39m\u001b[39m\"\u001b[39m: \u001b[39m64\u001b[39m}\n\u001b[1;32m     67\u001b[0m \u001b[39mreturn\u001b[39;00m setup_args_dict\n",
      "\u001b[0;31mAttributeError\u001b[0m: 'bool' object has no attribute 'flatten'"
     ]
    }
   ],
   "source": [
    "setup_args_dict = cuter_extra_setup_args(p)\n",
    "print (setup_args_dict)\n",
    "\n",
    "f, grad_f = p.obj(p.x0, gradient = True)\n",
    "c, grad_c = p.cons(p.x0, gradient = True)\n",
    "\n"
   ]
  }
 ],
 "metadata": {
  "kernelspec": {
   "display_name": "venv",
   "language": "python",
   "name": "python3"
  },
  "language_info": {
   "codemirror_mode": {
    "name": "ipython",
    "version": 3
   },
   "file_extension": ".py",
   "mimetype": "text/x-python",
   "name": "python",
   "nbconvert_exporter": "python",
   "pygments_lexer": "ipython3",
   "version": "3.10.6"
  },
  "orig_nbformat": 4,
  "vscode": {
   "interpreter": {
    "hash": "a1b8de57ce40ebf5b8bf60ecde0e108a192da63b9038167ecfa9de74d8f426c4"
   }
  }
 },
 "nbformat": 4,
 "nbformat_minor": 2
}
