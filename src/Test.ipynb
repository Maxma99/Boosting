{
 "cells": [
  {
   "attachments": {},
   "cell_type": "markdown",
   "metadata": {},
   "source": [
    "# Boosting SLP"
   ]
  },
  {
   "attachments": {},
   "cell_type": "markdown",
   "metadata": {},
   "source": [
    "## Import Problem"
   ]
  },
  {
   "cell_type": "code",
   "execution_count": 1,
   "metadata": {},
   "outputs": [
    {
     "name": "stderr",
     "output_type": "stream",
     "text": [
      "/home/mcq/Documents/Github/venv/lib/python3.10/site-packages/pycutest/__init__.py:28: RuntimeWarning: the PYCUTEST_CACHE environment variable is not set; current folder will be used for caching.\n",
      "  warnings.warn(\"the PYCUTEST_CACHE environment variable is not set; current folder will be used for caching.\", RuntimeWarning)\n"
     ]
    }
   ],
   "source": [
    "import pycutest as pc\n",
    "import numpy as np\n",
    "import os\n",
    "from collections import OrderedDict\n",
    "import autograd.numpy as np\n",
    "import matplotlib.pyplot as plt\n",
    "import networkx as nx\n",
    "import pandas as pd\n",
    "from autograd import grad\n",
    "from collections import Counter, defaultdict\n",
    "from itertools import compress\n",
    "from scipy.io import loadmat\n",
    "from scipy.optimize import linear_sum_assignment\n",
    "from scipy.sparse.linalg import svds\n",
    "from scipy.special import huber\n",
    "from sklearn.preprocessing import StandardScaler\n",
    "from time import process_time\n",
    "from boosting_utils import *\n",
    "import warnings\n",
    "warnings.simplefilter('ignore')\n",
    "import logging\n",
    "import pickle\n",
    "import time\n",
    "# from cuter_util import Cuter\n",
    "# from linear_solver import linearSolveTrustRegion\n",
    "from param import DustParam"
   ]
  },
  {
   "cell_type": "code",
   "execution_count": 2,
   "metadata": {},
   "outputs": [
    {
     "name": "stdout",
     "output_type": "stream",
     "text": [
      "Parameters available for problem HS20:\n",
      "End of parameters for problem HS20\n",
      "CUTEst problem HS20 (default params) with 2 variables and 3 constraints\n",
      "{'objective': 'sum of squares', 'constraints': 'quadratic', 'regular': True, 'degree': 2, 'origin': 'academic', 'internal': False, 'n': 2, 'm': 3}\n"
     ]
    },
    {
     "data": {
      "text/plain": [
       "{'f': 0,\n",
       " 'g': 0,\n",
       " 'H': 0,\n",
       " 'Hprod': 0,\n",
       " 'c': 0,\n",
       " 'cg': 0,\n",
       " 'cH': 0,\n",
       " 'tsetup': 0.0,\n",
       " 'trun': 0.0}"
      ]
     },
     "execution_count": 2,
     "metadata": {},
     "output_type": "execute_result"
    }
   ],
   "source": [
    "pc.print_available_sif_params('HS20')\n",
    "p = pc.import_problem('HS20')\n",
    "p_properties = pc.problem_properties('HS20')\n",
    "print(p)\n",
    "print(p_properties)\n",
    "p.report()"
   ]
  },
  {
   "cell_type": "code",
   "execution_count": 3,
   "metadata": {},
   "outputs": [
    {
     "name": "stdout",
     "output_type": "stream",
     "text": [
      "{'x': array([-2.,  1.]), 'bl': array([-5.e-01, -1.e+20]), 'bu': array([5.e-01, 1.e+20]), 'v': array([0., 0., 0.]), 'cl': array([0., 0., 0.]), 'cu': array([1.e+20, 1.e+20, 1.e+20]), 'equatn': array([False, False, False]), 'linear': array([False, False, False]), 'bl_flag': array([ True, False]), 'bu_flag': array([ True, False]), 'adjusted_equatn': array([False, False, False, False, False]), 'iequatn': array([ True,  True,  True]), 'inequality_lower': array([ True,  True,  True]), 'inequality_upper': array([False, False, False]), 'is_lower_bound_only_constr': array([ True,  True,  True]), 'is_double_bound_constr': array([False, False, False])}\n"
     ]
    }
   ],
   "source": [
    "setup_args_dict = cuter_extra_setup_args(p)\n",
    "print (setup_args_dict)"
   ]
  },
  {
   "cell_type": "code",
   "execution_count": 4,
   "metadata": {},
   "outputs": [
    {
     "ename": "IndexError",
     "evalue": "boolean index did not match indexed array along dimension 0; dimension is 3 but corresponding boolean dimension is 5",
     "output_type": "error",
     "traceback": [
      "\u001b[0;31m---------------------------------------------------------------------------\u001b[0m",
      "\u001b[0;31mIndexError\u001b[0m                                Traceback (most recent call last)",
      "Cell \u001b[0;32mIn[4], line 1\u001b[0m\n\u001b[0;32m----> 1\u001b[0m linearSolveTrustRegion(p, DustParam, setup_args_dict)\n",
      "File \u001b[0;32m~/Documents/Github/Boosting/src/boosting_utils.py:291\u001b[0m, in \u001b[0;36mlinearSolveTrustRegion\u001b[0;34m(cuter_problem, dust_param, setup_args_dict)\u001b[0m\n\u001b[1;32m    288\u001b[0m i, status \u001b[39m=\u001b[39m \u001b[39m0\u001b[39m, \u001b[39m-\u001b[39m\u001b[39m1\u001b[39m\n\u001b[1;32m    289\u001b[0m x_k \u001b[39m=\u001b[39m x_0\u001b[39m.\u001b[39mcopy()\n\u001b[0;32m--> 291\u001b[0m f, g, b, A, violation \u001b[39m=\u001b[39m get_f_g_A_b_violation(x_k, cuter_problem, setup_args_dict)\n\u001b[1;32m    292\u001b[0m \u001b[39m# m, n = A.shape\u001b[39;00m\n\u001b[1;32m    293\u001b[0m max_iter \u001b[39m=\u001b[39m dust_param\u001b[39m.\u001b[39mmax_iter\n",
      "File \u001b[0;32m~/Documents/Github/Boosting/src/boosting_utils.py:241\u001b[0m, in \u001b[0;36mget_f_g_A_b_violation\u001b[0;34m(x_k, cuter_problem, setup_args_dict)\u001b[0m\n\u001b[1;32m    239\u001b[0m f, g \u001b[39m=\u001b[39m cuter_problem\u001b[39m.\u001b[39mobj(x_k, gradient \u001b[39m=\u001b[39m \u001b[39mTrue\u001b[39;00m)\n\u001b[1;32m    240\u001b[0m b, A \u001b[39m=\u001b[39m cuter_problem\u001b[39m.\u001b[39mcons(x_k, gradient \u001b[39m=\u001b[39m \u001b[39mTrue\u001b[39;00m)\n\u001b[0;32m--> 241\u001b[0m violation \u001b[39m=\u001b[39m v_x(b, setup_args_dict[\u001b[39m'\u001b[39;49m\u001b[39madjusted_equatn\u001b[39;49m\u001b[39m'\u001b[39;49m])\n\u001b[1;32m    243\u001b[0m \u001b[39mreturn\u001b[39;00m f, g, b, A, violation\n",
      "File \u001b[0;32m~/Documents/Github/Boosting/src/boosting_utils.py:76\u001b[0m, in \u001b[0;36mv_x\u001b[0;34m(c, adjusted_equatn)\u001b[0m\n\u001b[1;32m     74\u001b[0m \u001b[39mif\u001b[39;00m np\u001b[39m.\u001b[39many(np\u001b[39m.\u001b[39misnan(c)):\n\u001b[1;32m     75\u001b[0m     \u001b[39mreturn\u001b[39;00m np\u001b[39m.\u001b[39mnan\n\u001b[0;32m---> 76\u001b[0m equality_violation \u001b[39m=\u001b[39m np\u001b[39m.\u001b[39msum(np\u001b[39m.\u001b[39mabs(c[adjusted_equatn]))\n\u001b[1;32m     77\u001b[0m inequality_violation \u001b[39m=\u001b[39m np\u001b[39m.\u001b[39msum(c[np\u001b[39m.\u001b[39mlogical_and(np\u001b[39m.\u001b[39mlogical_not(adjusted_equatn), (c \u001b[39m>\u001b[39m \u001b[39m0\u001b[39m)\u001b[39m.\u001b[39mflatten())])\n\u001b[1;32m     79\u001b[0m \u001b[39mreturn\u001b[39;00m equality_violation \u001b[39m+\u001b[39m inequality_violation\n",
      "\u001b[0;31mIndexError\u001b[0m: boolean index did not match indexed array along dimension 0; dimension is 3 but corresponding boolean dimension is 5"
     ]
    }
   ],
   "source": [
    "linearSolveTrustRegion(p, DustParam, setup_args_dict)"
   ]
  }
 ],
 "metadata": {
  "kernelspec": {
   "display_name": "venv",
   "language": "python",
   "name": "python3"
  },
  "language_info": {
   "codemirror_mode": {
    "name": "ipython",
    "version": 3
   },
   "file_extension": ".py",
   "mimetype": "text/x-python",
   "name": "python",
   "nbconvert_exporter": "python",
   "pygments_lexer": "ipython3",
   "version": "3.10.6"
  },
  "orig_nbformat": 4,
  "vscode": {
   "interpreter": {
    "hash": "a1b8de57ce40ebf5b8bf60ecde0e108a192da63b9038167ecfa9de74d8f426c4"
   }
  }
 },
 "nbformat": 4,
 "nbformat_minor": 2
}
